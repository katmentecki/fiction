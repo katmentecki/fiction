{
 "cells": [
  {
   "cell_type": "code",
   "execution_count": 10,
   "metadata": {
    "collapsed": false
   },
   "outputs": [],
   "source": [
    "from nltk import corpus\n",
    "import numpy as np\n",
    "from sklearn.cluster import MeanShift, estimate_bandwidth\n",
    "from sklearn.feature_extraction import DictVectorizer\n",
    "from sklearn.feature_extraction.text import TfidfTransformer\n",
    "import pandas as pd"
   ]
  },
  {
   "cell_type": "code",
   "execution_count": 14,
   "metadata": {
    "collapsed": false
   },
   "outputs": [],
   "source": [
    "stops = corpus.stopwords.words('english') \n",
    "# load features\n",
    "feature_df = pd.read_csv(\"lavin_lexicon/features_all.csv\")\n",
    "features_all = [i for i in list(feature_df[\"term\"]) if i not in stops]\n",
    "features = features_all[:500]"
   ]
  },
  {
   "cell_type": "code",
   "execution_count": null,
   "metadata": {
    "collapsed": true
   },
   "outputs": [],
   "source": [
    "from application import db\n",
    "from application.models import *\n",
    "import pymysql\n",
    "from collections import Counter\n",
    "from config import USER, PWD\n",
    "\n",
    "# loop ids, store order here\n",
    "_ids  = [i.id for i in db.session.query(Metadata).all()]\n",
    "feature_dicts = []\n",
    "for _id in _ids:\n",
    "    feature_dict = {}\n",
    "    # get types and counts\n",
    "    query = \"\".join([\"SELECT type, type_count FROM counts WHERE work_id=\", str(_id), \" AND type REGEXP '^[A-Za-z]+$';\"])\n",
    "    #loop terms matching certain criteria (regex query)\n",
    "    a = cur.execute(query)\n",
    "    for row in cur:\n",
    "        #add to dict if ok to use\n",
    "        if row[0] in features:\n",
    "            feature_dict[row[0]] = row[1]\n",
    "        \n",
    "# create vectors using N top features not in stops\n",
    "tfidf = TfidfTransformer()\n",
    "vec = DictVectorizer()\n",
    "vect = vec.fit_transform(feature_dicts)\n",
    "adjusted = tfidf.fit_transform(vect)\n",
    "data = adjusted.toarray()\n",
    "data\n",
    "\n",
    "# the following bandwidth can be automatically detected using\n",
    "bandwidth = estimate_bandwidth(data, quantile=0.2, n_samples=200)\n",
    "\n",
    "ms = MeanShift(bandwidth=bandwidth, bin_seeding=True)\n",
    "ms.fit(data)\n",
    "labels = ms.labels_\n",
    "cluster_centers = ms.cluster_centers_\n",
    "\n",
    "labels_unique = np.unique(labels)\n",
    "n_clusters_ = len(labels_unique)\n",
    "\n",
    "print(labels)\n",
    "print(\"number of estimated clusters : %d\" % n_clusters_)\n",
    "\n",
    "#Store results for graphing"
   ]
  }
 ],
 "metadata": {
  "kernelspec": {
   "display_name": "Python 3",
   "language": "python",
   "name": "python3"
  },
  "language_info": {
   "codemirror_mode": {
    "name": "ipython",
    "version": 3
   },
   "file_extension": ".py",
   "mimetype": "text/x-python",
   "name": "python",
   "nbconvert_exporter": "python",
   "pygments_lexer": "ipython3",
   "version": "3.5.2"
  }
 },
 "nbformat": 4,
 "nbformat_minor": 0
}
