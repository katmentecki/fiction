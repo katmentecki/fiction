{
 "cells": [
  {
   "cell_type": "code",
   "execution_count": 1,
   "metadata": {
    "collapsed": true
   },
   "outputs": [],
   "source": [
    "import pandas as pd\n",
    "from application import *\n",
    "import urllib\n",
    "\n",
    "def genre_entry(docid, genre):\n",
    "    #convert doc_id to id\n",
    "    _id = urllib.quote_plus(docid)\n",
    "    work_id = db.session.query(Metadata).filter(Metadata.docid == _id).one().id\n",
    "    #creat Genres instance\n",
    "    ins = Genres()\n",
    "    ins.id = None\n",
    "    ins.genre = genre\n",
    "    ins.work_id = work_id\n",
    "    try:\n",
    "        db.session.add(ins)\n",
    "        db.session.commit()\n",
    "    except:\n",
    "        pass\n",
    "\n",
    "def genre_maker(row):\n",
    "    if row[1] == \"x\":\n",
    "        genre_entry(row[0],\"lavin_ghost\")\n",
    "        #print(\"lavin_ghost\")\n",
    "    if row[2] == \"x\":\n",
    "        genre_entry(row[0],\"lavin_slasher\")\n",
    "        #print(\"lavin_slasher\")\n",
    "    if row[3] == \"x\":\n",
    "        genre_entry(row[0],\"lavin_magic\")\n",
    "        #print(\"lavin_magic\")\n",
    "    if row[4] ==\"x\":\n",
    "        genre_entry(row[0],\"lavin_deranged\")\n",
    "        print(\"lavin_deranged\")\n",
    "\n",
    "lavin_genres = pd.read_csv(\"lavin_meta/horror_subgenre_tracers.tsv\", sep='\\t')\n",
    "\n",
    "columns = zip(list(lavin_genres[\"docid\"]), list(lavin_genres[\"ghost-haunting\"]), list(lavin_genres[\"killer-slasher-gore\"]), \\\n",
    " list(lavin_genres[\"demon-occult-witch-magic-psychic\"]), list(lavin_genres[\"insanity-deranged\"]))\n",
    "\n",
    "for row in columns:\n",
    "    genre_maker(row)"
   ]
  },
  {
   "cell_type": "code",
   "execution_count": null,
   "metadata": {
    "collapsed": true
   },
   "outputs": [],
   "source": []
  }
 ],
 "metadata": {
  "kernelspec": {
   "display_name": "Python 3",
   "language": "python",
   "name": "python3"
  },
  "language_info": {
   "codemirror_mode": {
    "name": "ipython",
    "version": 3
   },
   "file_extension": ".py",
   "mimetype": "text/x-python",
   "name": "python",
   "nbconvert_exporter": "python",
   "pygments_lexer": "ipython3",
   "version": "3.5.2"
  }
 },
 "nbformat": 4,
 "nbformat_minor": 0
}
