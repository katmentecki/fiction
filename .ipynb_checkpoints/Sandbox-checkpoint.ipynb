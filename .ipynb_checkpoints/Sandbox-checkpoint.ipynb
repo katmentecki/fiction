{
 "cells": [
  {
   "cell_type": "code",
   "execution_count": 1,
   "metadata": {
    "collapsed": true
   },
   "outputs": [],
   "source": [
    "from application import db\n",
    "from application.models import *\n",
    "import pymysql \n",
    "from config import USER, PWD \n",
    "\n",
    "#Make empty dictionary\n",
    "terms = {}\n",
    "#Loop ids from metadata\n",
    "_ids = [i.id for i in db.session.query(Metadata).all()]\n",
    "\n",
    "conn = pymysql.connect(host='localhost', port=3306, user=USER, passwd=PWD, db='horror')\n",
    "\n",
    "cur = conn.cursor()\n",
    "\n",
    "for _id in _ids[:5]:\n",
    "    print(_id)\n",
    "    #loop terms matching certain criteria (regex query)\n",
    "    a = cur.execute(query)\n",
    "    print(a)\n",
    "    #Try to add to count in dictionary\n",
    "    #Except add term to dictionary with count of one \n",
    "    #At end of loop, convert to pandas df (terms and counts)\n",
    "    #Order by count\n",
    "    #Stop at 10k\n",
    "    #Save as csv in lavin_lexicon folder\n"
   ]
  },
  {
   "cell_type": "code",
   "execution_count": null,
   "metadata": {
    "collapsed": true
   },
   "outputs": [],
   "source": []
  }
 ],
 "metadata": {
  "kernelspec": {
   "display_name": "Python 3",
   "language": "python",
   "name": "python3"
  },
  "language_info": {
   "codemirror_mode": {
    "name": "ipython",
    "version": 3
   },
   "file_extension": ".py",
   "mimetype": "text/x-python",
   "name": "python",
   "nbconvert_exporter": "python",
   "pygments_lexer": "ipython3",
   "version": "3.5.2"
  }
 },
 "nbformat": 4,
 "nbformat_minor": 0
}
