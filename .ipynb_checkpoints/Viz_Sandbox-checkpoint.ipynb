{
 "cells": [
  {
   "cell_type": "code",
   "execution_count": 64,
   "metadata": {
    "collapsed": false
   },
   "outputs": [],
   "source": [
    "%matplotlib inline\n",
    "import itertools\n",
    "import matplotlib.pyplot as plt\n",
    "from sklearn.metrics import confusion_matrix\n",
    "import numpy as np"
   ]
  },
  {
   "cell_type": "code",
   "execution_count": 65,
   "metadata": {
    "collapsed": false,
    "scrolled": true
   },
   "outputs": [],
   "source": [
    "def confusion_from_csv(csv, genre_type):\n",
    "    import pandas as pd\n",
    "    df = pd.read_csv(csv)\n",
    "    \n",
    "    #depending on genre_type, get cluster index and appropriate genre\n",
    "    if genre_type == \"lavin\":\n",
    "        genres = list(df[\"lavin_genre\"])\n",
    "    else:\n",
    "        genres = list(df[\"final_genre\"])\n",
    "    \n",
    "    clusters = [str(i) for i in list(df[\"group_label\"])]\n",
    "     \n",
    "    y_actu = pd.Series(genres, name='Human Coded')\n",
    "    y_pred = pd.Series(clusters, name='Inferred')\n",
    "    \n",
    "    df_confusion = pd.crosstab(y_pred, y_actu)\n",
    "    filename = csv.replace(\"lavin_results/\", \"\").replace(\".csv\", \"_confusion_\"+genre_type)\n",
    "    df_confusion.to_csv(\"viz/\"+ filename +\".csv\")"
   ]
  },
  {
   "cell_type": "code",
   "execution_count": 66,
   "metadata": {
    "collapsed": false
   },
   "outputs": [],
   "source": [
    "import glob\n",
    "csvs = glob.glob(\"lavin_results/*.csv\")\n",
    "for csv in csvs:\n",
    "    if \"horror\" not in csv:\n",
    "        confusion_from_csv(csv, genre_type=\"big\")"
   ]
  },
  {
   "cell_type": "code",
   "execution_count": 67,
   "metadata": {
    "collapsed": false
   },
   "outputs": [],
   "source": [
    "for csv in csvs:\n",
    "    confusion_from_csv(csv, genre_type=\"lavin\")\n",
    "\n"
   ]
  },
  {
   "cell_type": "code",
   "execution_count": null,
   "metadata": {
    "collapsed": false
   },
   "outputs": [],
   "source": []
  },
  {
   "cell_type": "code",
   "execution_count": null,
   "metadata": {
    "collapsed": true
   },
   "outputs": [],
   "source": []
  }
 ],
 "metadata": {
  "kernelspec": {
   "display_name": "Python 3",
   "language": "python",
   "name": "python3"
  },
  "language_info": {
   "codemirror_mode": {
    "name": "ipython",
    "version": 3
   },
   "file_extension": ".py",
   "mimetype": "text/x-python",
   "name": "python",
   "nbconvert_exporter": "python",
   "pygments_lexer": "ipython3",
   "version": "3.5.2"
  }
 },
 "nbformat": 4,
 "nbformat_minor": 0
}
